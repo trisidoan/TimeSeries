{
 "cells": [
  {
   "cell_type": "markdown",
   "metadata": {},
   "source": [
    "The Household Power Consumption dataset is a multivariate time series dataset that describes the electricity consumption for a single household over four years. The data was collected between December 2006 and November 2010 and observations of power consumption within the household were collected every minute. It is a multivariate series comprised of seven variables (besides the date and time)\n",
    "\n",
    "􏰀 . global active power: The total active power consumed by the household (kilowatts).      \n",
    "􏰀 . global reactive power: The total reactive power consumed by the household (kilowatts).       \n",
    " . voltage: Average voltage (volts).      \n",
    "􏰀 . global intensity: Average current intensity (amps).   \n",
    "􏰀 . sub metering 1: Active energy for kitchen (watt-hours of active energy).   \n",
    "􏰀 . sub metering 2: Active energy for laundry (watt-hours of active energy).   \n",
    "􏰀 . sub metering 3: Active energy for climate control systems (watt-hours of active energy).  "
   ]
  },
  {
   "cell_type": "code",
   "execution_count": 20,
   "metadata": {},
   "outputs": [],
   "source": [
    "import numpy  as np\n",
    "import pandas as pd\n",
    "\n",
    "from math import sqrt\n",
    "\n",
    "from sklearn.metrics import mean_squared_error \n",
    "import matplotlib.pyplot as plt"
   ]
  },
  {
   "cell_type": "code",
   "execution_count": null,
   "metadata": {},
   "outputs": [],
   "source": [
    "# load the new file\n",
    "dataset = pd.read_csv('./Downloads/data/household_power_consumption.txt', sep=';', header=0, low_memory=False, infer_datetime_format=True, parse_dates={'datetime':[0,1]}, index_col=['datetime'])"
   ]
  },
  {
   "cell_type": "markdown",
   "metadata": {},
   "source": [
    "First, we can mark all missing values indicated with a ‘?’ character with a NaN value, which is a float. This will allow us to work with the data as one array of floating point values rather than mixed types (less efficient.). We will process the original data and save into csv for project."
   ]
  },
  {
   "cell_type": "code",
   "execution_count": null,
   "metadata": {},
   "outputs": [],
   "source": [
    "# mark all missing values\n",
    "dataset.replace('?', np.nan, inplace=True) # make dataset numeric\n",
    "dataset = dataset.astype('float32')"
   ]
  },
  {
   "cell_type": "markdown",
   "metadata": {},
   "source": [
    "We also need to fill in the missing values now that they have been marked. A very simple approach would be to copy the observation from the same time the day before. We can implement this in a function named fill missing() that will take the NumPy array of the data and copy values from exactly 24 hours ago."
   ]
  },
  {
   "cell_type": "code",
   "execution_count": null,
   "metadata": {},
   "outputs": [],
   "source": [
    "# fill missing values with a value at the same time one day ago\n",
    "def fill_missing(values):\n",
    "    one_day = 60 * 24\n",
    "    for row in range(values.shape[0]):\n",
    "        for col in range(values.shape[1]): \n",
    "            if np.isnan(values[row, col]):\n",
    "                values[row, col] = values[row - one_day, col]\n",
    "# fill missing\n",
    "fill_missing(dataset.values)"
   ]
  },
  {
   "cell_type": "code",
   "execution_count": null,
   "metadata": {},
   "outputs": [],
   "source": [
    "dataset.isna().sum()"
   ]
  },
  {
   "cell_type": "code",
   "execution_count": null,
   "metadata": {},
   "outputs": [],
   "source": [
    "# add a column for for the remainder of sub metering\n",
    "values = dataset.values\n",
    "dataset['sub_metering_4'] = (values[:,0] * 1000 / 60) - (values[:,4] + values[:,5] +\n",
    "    values[:,6])\n",
    "# save updated dataset\n",
    "dataset.to_csv('./Downloads/data/household_power_consumption.csv')"
   ]
  },
  {
   "cell_type": "markdown",
   "metadata": {},
   "source": [
    "**Given recent power consumption**, what is the expected power consumption for the week ahead? This requires that a predictive model forecast the total active power for each day over the next seven days.   \n",
    "\n",
    "Technically, this framing of the problem is referred to as a multi-step time series forecasting problem, given the multiple forecast steps. A model that makes use of multiple input variables may be referred to as a multivariate multi-step time series forecasting model.\n",
    "\n",
    "It would be useful to **downsample the per-minute observations** of power consumption to **daily totals**. This is not required, but makes sense, given that we are interested in total power per day. We can achieve this easily using the resample() function on the Pandas DataFrame. Calling this function with the argument ‘D’ allows the loaded data indexed by date-time to be grouped by day (see all offset aliases). We can then calculate the sum of all observations for each day and create a new dataset of daily power consumption data for each of the eight variables. "
   ]
  },
  {
   "cell_type": "code",
   "execution_count": null,
   "metadata": {},
   "outputs": [],
   "source": [
    "# resample minute data to total for each day for the power usage dataset\n",
    "\n",
    "# load the new file\n",
    "dataset = pd.read_csv('./Downloads/data/household_power_consumption.csv', header=0, infer_datetime_format=True,\n",
    "parse_dates=['datetime'], index_col=['datetime']) \n",
    "\n",
    "dataset.head()"
   ]
  },
  {
   "cell_type": "code",
   "execution_count": null,
   "metadata": {},
   "outputs": [],
   "source": [
    "# resample data to daily\n",
    "daily_groups = dataset.resample('D')\n",
    "daily_data = daily_groups.sum()\n",
    "# summarize\n",
    "print(daily_data.shape)\n",
    "print(daily_data.head())\n",
    "# save \n",
    "\n",
    "daily_data.to_csv('./Downloads/data/household_power_consumption_days.csv')\n",
    "daily_data.head()"
   ]
  },
  {
   "cell_type": "markdown",
   "metadata": {},
   "source": [
    "### Select evaluation metric.  \n",
    "\n",
    "A forecast will be comprised of seven values, one for each day of the week ahead. It is common with multi-step forecasting problems to evaluate each forecasted time step separately. This is helpful for a few reasons:   \n",
    "􏰀 * To comment on the skill at a specific lead time (e.g. +1 day vs +3 days).   \n",
    "􏰀 * To contrast models based on their skills at different lead times (e.g. models good at +1 day vs models good at days +5).  \n",
    "\n",
    "The units of the total power are kilowatts and it would be useful to have an error metric that was also in the same units. Both Root Mean Squared Error (RMSE) and Mean Absolute Error (MAE) fit this bill, although RMSE is more commonly used and will be adopted in this tutorial. Unlike MAE, RMSE is more punishing of forecast errors. The performance metric for this problem will be the RMSE for each lead time from day 1 to day 7.   \n",
    "\n",
    "The function evaluate forecasts() below will implement this behavior and return the performance of a model based on multiple seven-day forecasts."
   ]
  },
  {
   "cell_type": "code",
   "execution_count": 2,
   "metadata": {},
   "outputs": [],
   "source": [
    "# evaluate one or more weekly forecasts against expected values\n",
    "def evaluate_forecasts(actual, predicted): \n",
    "    scores = list()\n",
    "    # calculate an RMSE score for each day\n",
    "    for i in range(actual.shape[1]):\n",
    "    # calculate mse\n",
    "        mse = mean_squared_error(actual[:, i], predicted[:, i]) # calculate rmse\n",
    "        rmse = sqrt(mse)\n",
    "        # store\n",
    "        scores.append(rmse)\n",
    "          # calculate overall RMSE\n",
    "    s=0\n",
    "    for row in range(actual.shape[0]):\n",
    "        for col in range(actual.shape[1]):\n",
    "            s += (actual[row, col] - predicted[row, col])**2\n",
    "    \n",
    "    score = sqrt(s / (actual.shape[0] * actual.shape[1]))\n",
    "    return score, scores\n"
   ]
  },
  {
   "cell_type": "markdown",
   "metadata": {},
   "source": [
    "We will use the first three years of data for training predictive models and the final year for evaluating models. The data in a given dataset will be divided into standard weeks. These are weeks that begin on a Sunday and end on a Saturday.   \n",
    "\n",
    "We will split the data into standard weeks, working backwards from the test dataset. The final year of the data is in 2010 and the first Sunday for 2010 was January 3rd. The data ends in mid November 2010 and the closest final Saturday in the data is November 20th. This gives 46 weeks of test data"
   ]
  },
  {
   "cell_type": "code",
   "execution_count": 5,
   "metadata": {},
   "outputs": [],
   "source": [
    "# split a univariate dataset into train/test sets\n",
    "def split_dataset(data):\n",
    "    # split into standard weeks\n",
    "    train, test = data[1:-328], data[-328:-6] \n",
    "    # restructure into windows of weekly data \n",
    "    train = np.array(np.split(train, len(train)/7)) \n",
    "    test = np.array(np.split(test, len(test)/7)) \n",
    "    \n",
    "    return train, test\n",
    "\n",
    "# load the new file\n",
    "dataset = pd.read_csv('./Downloads/data/household_power_consumption_days.csv', header=0, infer_datetime_format=True, parse_dates=['datetime'], index_col=['datetime'])\n",
    "train, test = split_dataset(dataset.values)"
   ]
  },
  {
   "cell_type": "code",
   "execution_count": 6,
   "metadata": {},
   "outputs": [
    {
     "name": "stdout",
     "output_type": "stream",
     "text": [
      "train shape  (159, 7, 8)\n",
      "validate train  3390.46 1309.2679999999998\n",
      "test shape  (46, 7, 8)\n",
      "2083.4539999999984 2197.006000000004\n"
     ]
    }
   ],
   "source": [
    "# validate train data\n",
    "print('train shape ',train.shape)\n",
    "print('validate train ',train[0, 0, 0], train[-1, -1, 0])\n",
    "\n",
    "# validate test\n",
    "print('test shape ',test.shape)\n",
    "print(test[0, 0, 0], test[-1, -1, 0])"
   ]
  },
  {
   "cell_type": "markdown",
   "metadata": {},
   "source": [
    "Running the example shows that indeed the train dataset has 159 weeks of data, whereas the test dataset has 46 weeks.   \n",
    "\n",
    "### Walk-forward validation   \n",
    "\n",
    "\n",
    "Models will be evaluated using a scheme called walk-forward validation. This is where a model is required to make a one week prediction, then the actual data for that week is made available to the model so that it can be used as the basis for making a prediction on the subsequent week\n",
    "\n"
   ]
  },
  {
   "cell_type": "code",
   "execution_count": 18,
   "metadata": {},
   "outputs": [],
   "source": [
    "# evaluate a single model\n",
    "def evaluate_model(model_func, train, test): \n",
    "    # history is a list of weekly data\n",
    "    history = [x for x in train]\n",
    "    \n",
    "    # walk-forward validation over each week \n",
    "    predictions = list()\n",
    "    for i in range(len(test)):\n",
    "        # predict the week\n",
    "        yhat_sequence = model_func(history)\n",
    "        # store the predictions\n",
    "        predictions.append(yhat_sequence)\n",
    "        # get real observation and add to history for predicting the next week\n",
    "        history.append(test[i, :])\n",
    "    predictions = np.array(predictions)\n",
    "      # evaluate predictions days for each week\n",
    "    score, scores = evaluate_forecasts(test[:, :, 0], predictions) \n",
    "    return score, scores\n",
    "\n",
    "# summarize scores\n",
    "def summarize_scores(name, score, scores):\n",
    "    s_scores = ', '.join(['%.1f' % s for s in scores]) \n",
    "    print('%s: [%.3f] %s' % (name, score, s_scores))\n"
   ]
  },
  {
   "cell_type": "markdown",
   "metadata": {},
   "source": [
    "### Base models.  \n",
    "\n",
    "There are serveral ways to define base model to compare to final model, among them:   \n",
    "    \n",
    "    \n",
    "1. Daily Persistence Forecast.   \n",
    "2. Weekly Persistent Forecast.   \n",
    "3. Weekly One-Year-Ago Persistent Forecast  \n",
    "\n",
    "### Daily Persistence Forecast\n",
    "This model takes the active power from the last day prior to the forecast period (e.g. Saturday) and uses it as the value of the power for each day in the forecast period (Sunday to Saturday).\n"
   ]
  },
  {
   "cell_type": "code",
   "execution_count": 14,
   "metadata": {},
   "outputs": [],
   "source": [
    "\n",
    "# daily persistence model\n",
    "def daily_persistence(history):\n",
    "    # get the data for the prior week\n",
    "    last_week = history[-1]\n",
    "    # get the total active power for the last day \n",
    "    value = last_week[-1, 0] \n",
    "    #prepare 7 day forecast\n",
    "    forecast = [value for _ in range(7)]\n",
    "    return forecast"
   ]
  },
  {
   "cell_type": "markdown",
   "metadata": {},
   "source": [
    "### Weekly Persistent Forecast   \n",
    "\n",
    "We can use the entire prior week as the forecast for the week ahead assuming that that next week will be very similar to this week."
   ]
  },
  {
   "cell_type": "code",
   "execution_count": 9,
   "metadata": {},
   "outputs": [],
   "source": [
    "# weekly persistence model\n",
    "def weekly_persistence(history):\n",
    "# get the data for the prior week\n",
    "    last_week = history[-1]\n",
    "    return last_week[:, 0]"
   ]
  },
  {
   "cell_type": "markdown",
   "metadata": {},
   "source": [
    "### Weekly One-Year-Ago Persistent Forecast   \n",
    "\n",
    "The idea of using the same week last year to predict next week. So we use the week of observations from 52 weeks ago as the forecast, based on the idea that next week will be similar to the same week one year ago. "
   ]
  },
  {
   "cell_type": "code",
   "execution_count": 10,
   "metadata": {},
   "outputs": [],
   "source": [
    "# week one year ago persistence model\n",
    "def week_one_year_ago_persistence(history): \n",
    "    # get the data for the prior week \n",
    "    last_week = history[-52]\n",
    "    return last_week[:, 0]"
   ]
  },
  {
   "cell_type": "code",
   "execution_count": 21,
   "metadata": {},
   "outputs": [
    {
     "name": "stdout",
     "output_type": "stream",
     "text": [
      "daily: [511.886] 452.9, 596.4, 532.1, 490.5, 534.3, 481.5, 482.0\n",
      "weekly: [469.389] 567.6, 500.3, 411.2, 466.1, 471.9, 358.3, 482.0\n",
      "week-oya: [465.294] 550.0, 446.7, 398.6, 487.0, 459.3, 313.5, 555.1\n"
     ]
    },
    {
     "data": {
      "image/png": "[encoded data removed]",
      "text/plain": [
       "<Figure size 432x288 with 1 Axes>"
      ]
     },
     "metadata": {
      "needs_background": "light"
     },
     "output_type": "display_data"
    }
   ],
   "source": [
    "# define the names and functions for the models we wish to evaluate\n",
    "\n",
    "models = dict()\n",
    "models['daily'] = daily_persistence\n",
    "models['weekly'] = weekly_persistence\n",
    "models['week-oya'] = week_one_year_ago_persistence\n",
    "# evaluate each model\n",
    "days = ['sun', 'mon', 'tue', 'wed', 'thr', 'fri', 'sat']\n",
    "for name, func in models.items():\n",
    "  # evaluate and get scores\n",
    "    score, scores = evaluate_model(func, train, test)\n",
    "      # summarize scores\n",
    "    summarize_scores(name, score, scores)\n",
    "    # plot scores\n",
    "    plt.plot(days, scores, marker='o', label=name)\n",
    "# show plot\n",
    "plt.legend()\n",
    "plt.show()\n"
   ]
  },
  {
   "cell_type": "markdown",
   "metadata": {},
   "source": [
    "We can see that the weekly strategy performs better than the daily strategy and that the week one year ago (week-oya) performs slightly better again. We can see this in both the overall RMSE scores for each model and in the daily scores for each forecast day. \n",
    "\n",
    "**One exception** is the forecast error for the first day (Sunday) where it appears that the daily persistence model performs better than the two weekly strategies. We can use the week-oya strategy with an overall RMSE of 465.294 kilowatts as the baseline in performance for more sophisticated models to be considered skillful on this specific framing of the problem.   \n",
    "\n",
    "We can see the same observed pattern of the weekly strategies performing better than the daily strategy in general, except in the case of the first day. It is surprising that the week one-year-ago performs better than using the prior week. "
   ]
  },
  {
   "cell_type": "code",
   "execution_count": null,
   "metadata": {},
   "outputs": [],
   "source": []
  }
 ],
 "metadata": {
  "kernelspec": {
   "display_name": "Python 3",
   "language": "python",
   "name": "python3"
  },
  "language_info": {
   "codemirror_mode": {
    "name": "ipython",
    "version": 3
   },
   "file_extension": ".py",
   "mimetype": "text/x-python",
   "name": "python",
   "nbconvert_exporter": "python",
   "pygments_lexer": "ipython3",
   "version": "3.7.6"
  }
 },
 "nbformat": 4,
 "nbformat_minor": 4
}
